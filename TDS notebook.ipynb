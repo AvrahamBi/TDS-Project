{
 "cells": [
  {
   "cell_type": "markdown",
   "id": "785ef302",
   "metadata": {},
   "source": [
    "# Tabular Data Science - Project"
   ]
  },
  {
   "cell_type": "markdown",
   "id": "e8b54479",
   "metadata": {
    "pycharm": {
     "name": "#%% md\n"
    }
   },
   "source": [
    "## Categorial feature selection using Chi-squared"
   ]
  },
  {
   "cell_type": "code",
   "execution_count": null,
   "id": "d435a268",
   "metadata": {},
   "outputs": [],
   "source": [
    "# imports\n",
    "import math\n",
    "import numpy as np\n",
    "import pandas as pd\n",
    "from matplotlib import pyplot\n",
    "from sklearn.ensemble import ExtraTreesClassifier\n",
    "from sklearn.preprocessing import LabelEncoder, OrdinalEncoder\n",
    "from sklearn.feature_selection import SelectKBest, SelectPercentile, chi2"
   ]
  },
  {
   "cell_type": "code",
   "execution_count": null,
   "id": "7a9e3def",
   "metadata": {},
   "outputs": [],
   "source": [
    "####### CONSTS ######\n",
    "THRESHOLD = 10000"
   ]
  },
  {
   "cell_type": "markdown",
   "id": "8f150016",
   "metadata": {
    "pycharm": {
     "name": "#%% md\n"
    }
   },
   "source": [
    "###### This function loads the csv file into Pandas Data Frame, splits the target column and encode X and y"
   ]
  },
  {
   "cell_type": "code",
   "execution_count": null,
   "id": "75be0c2b",
   "metadata": {},
   "outputs": [],
   "source": [
    "# load Data set from csv file\n",
    "def ds_loader(filename, y_index):\n",
    "    ds = pd.read_csv(filename, header=None, dtype='unicode').astype(str)\n",
    "    # get pandas DF of features\n",
    "    features_ = ds.iloc[0].drop(index=y_index)\n",
    "    features = []\n",
    "    # convert to list\n",
    "    for i in features_:\n",
    "        features.append(i)\n",
    "    ds_x = ds.drop(ds.columns[[y_index]], axis=1)\n",
    "    ds_y = ds[y_index]\n",
    "    # encode x\n",
    "    oe = OrdinalEncoder()\n",
    "    oe.fit(ds_x)\n",
    "    ds_x = oe.transform(ds_x)\n",
    "    # encode y\n",
    "    le = LabelEncoder()\n",
    "    le.fit(ds_y)\n",
    "    ds_y = le.transform(ds_y)\n",
    "    return ds_x, ds_y, features"
   ]
  },
  {
   "cell_type": "markdown",
   "id": "7b66dbd4",
   "metadata": {
    "pycharm": {
     "name": "#%% md\n"
    }
   },
   "source": [
    "###### This function uses SelectKBest library to discard low score coulmns"
   ]
  },
  {
   "cell_type": "code",
   "execution_count": null,
   "id": "2c95908a",
   "metadata": {},
   "outputs": [],
   "source": [
    "# discard columns and reduce data set\n",
    "def reduce_features(x, y, k):\n",
    "    selector = SelectKBest(score_func=chi2, k=k)\n",
    "    reduced_x = selector.fit(x, y).transform(x)\n",
    "    return reduced_x, selector"
   ]
  },
  {
   "cell_type": "code",
   "execution_count": null,
   "id": "8690eeb6",
   "metadata": {},
   "outputs": [],
   "source": [
    "# sort scores and features list into 2 sorted lists\n",
    "def sort_scores(selector, features):\n",
    "    dict = {}\n",
    "    for i in range(len(selector.scores_)):\n",
    "        dict[features[i]] = selector.scores_[i]\n",
    "    sorted_dict = {}\n",
    "    sorted_keys = sorted(dict, key=dict.get)\n",
    "    for i in sorted_keys:\n",
    "        sorted_dict[i] = dict[i]\n",
    "    features = []\n",
    "    scores = []\n",
    "    for i in sorted_dict:\n",
    "        features.append(i)\n",
    "        scores.append(sorted_dict[i])\n",
    "    for i in range(len(scores)):\n",
    "        scores[i] = math.floor(scores[i])\n",
    "    return features, scores"
   ]
  },
  {
   "cell_type": "code",
   "execution_count": null,
   "id": "ef47b4a9",
   "metadata": {},
   "outputs": [],
   "source": [
    "# print to console the features and their scores\n",
    "def showScores(features, scores, msg):\n",
    "    print(msg)\n",
    "    for i in range(len(features)):\n",
    "        print(\"Feature:\", features[i] + \",   Score:\", scores[i])"
   ]
  },
  {
   "cell_type": "code",
   "execution_count": null,
   "id": "041fe9e3",
   "metadata": {
    "pycharm": {
     "name": "#%%\n"
    }
   },
   "outputs": [],
   "source": [
    "# show graoh of features and scores to user\n",
    "def showGraph(features, scores, msg):\n",
    "    # plot the scores\n",
    "    pyplot.bar([features[i] for i in range(len(scores))], scores)\n",
    "    pyplot.title(msg)\n",
    "    pyplot.xticks(rotation=90)\n",
    "    pyplot.show()\n",
    "    return features, scores"
   ]
  },
  {
   "cell_type": "markdown",
   "id": "ed1ad1dc",
   "metadata": {
    "pycharm": {
     "name": "#%% md\n"
    }
   },
   "source": [
    "###### Down below we have the 2 functions that caclulates what should be the chosen K, each function calculates it sepearately and then K is the minimum from both."
   ]
  },
  {
   "cell_type": "code",
   "execution_count": null,
   "id": "a802717b",
   "metadata": {
    "pycharm": {
     "name": "#%%\n"
    }
   },
   "outputs": [],
   "source": [
    "# function finds how many features have score above threshold\n",
    "def getK_threshold(scores, threshold = 10000):\n",
    "    indexToSelect = 0\n",
    "    for i in range(len(scores)):\n",
    "        if (threshold < scores[i]):\n",
    "            indexToSelect = i\n",
    "            break\n",
    "    # K is number of features with score above threshold\n",
    "    k = len(scores) - indexToSelect\n",
    "    return k"
   ]
  },
  {
   "cell_type": "code",
   "execution_count": null,
   "outputs": [],
   "source": [
    "# finds an elbow point in features scores\n",
    "def getK_long_tail(scores):\n",
    "    sizeMulti = []\n",
    "    indexToSelect = 0\n",
    "    for i in range(len(scores)-1):\n",
    "        differ = scores[i+1] / scores[i]\n",
    "        sizeMulti.append(differ)\n",
    "    for i in range(len(sizeMulti)):\n",
    "        if sizeMulti[i] == max(sizeMulti):\n",
    "            indexToSelect = i\n",
    "    # K is number of features above elbow point\n",
    "    k = len(scores) - 1 - indexToSelect\n",
    "    return k"
   ],
   "metadata": {
    "collapsed": false,
    "pycharm": {
     "name": "#%%\n"
    }
   }
  },
  {
   "cell_type": "markdown",
   "source": [
    "###### This is the actual function, it executes the functions below."
   ],
   "metadata": {
    "collapsed": false
   }
  },
  {
   "cell_type": "code",
   "execution_count": null,
   "outputs": [],
   "source": [
    "# the main function that executes the process\n",
    "def chooseK(ds, target_column_index):\n",
    "    print(\"Start working on:\", ds)\n",
    "    # load data\n",
    "    X, y, features = ds_loader(ds, target_column_index)\n",
    "    # print some info of features and scores before reduction\n",
    "    print(\"\")\n",
    "    print(\"Original number of features:\", X.shape[1])\n",
    "    selector = SelectKBest(score_func=chi2, k='all')\n",
    "    selector.fit(X, y)\n",
    "    features, scores = sort_scores(selector, features)\n",
    "    showScores(features, scores, \"Original features with their scores:\")\n",
    "    showGraph(features, scores, \"Original features with their scores:\")\n",
    "    print(\"\")\n",
    "    #\n",
    "    threshold_k = getK_threshold(scores, threshold=THRESHOLD)\n",
    "    long_tail_k = getK_long_tail(scores)\n",
    "    k = min(threshold_k, long_tail_k)\n",
    "    print(\"K chosen by long_tail is:\", long_tail_k)\n",
    "    print(\"K chosen by threshold (\" + str(THRESHOLD) + \") is:\", threshold_k)\n",
    "    print(\"Minimal K is:\", k)\n",
    "    print(\"\")\n",
    "\n",
    "    # here we got reduced dataset and reduced features and scores lists\n",
    "    reduced_x, selector = reduce_features(X, y, k)\n",
    "    reduced_features = features[-k:]\n",
    "    reduced_scores = scores[-k:]\n",
    "\n",
    "    # print some info of features and scores after reduction\n",
    "    showScores(reduced_features, reduced_scores, \"After reduction:\")\n",
    "    showGraph(reduced_features, reduced_scores, \"After reduction:\")"
   ],
   "metadata": {
    "collapsed": false,
    "pycharm": {
     "name": "#%%\n"
    }
   }
  },
  {
   "cell_type": "markdown",
   "source": [
    "###### Now let's check our program with four different data sets"
   ],
   "metadata": {
    "collapsed": false
   }
  },
  {
   "cell_type": "code",
   "execution_count": null,
   "outputs": [],
   "source": [
    "############ MAIN #############"
   ],
   "metadata": {
    "collapsed": false,
    "pycharm": {
     "name": "#%%\n"
    }
   }
  },
  {
   "cell_type": "markdown",
   "source": [
    "###### Wine reviews Dataset. from: https://www.kaggle.com/zynicide/wine-reviews"
   ],
   "metadata": {
    "collapsed": false
   }
  },
  {
   "cell_type": "code",
   "execution_count": null,
   "outputs": [],
   "source": [
    "\n",
    "chooseK(\"wine_ds.csv\", 4)               # Target column: Points"
   ],
   "metadata": {
    "collapsed": false,
    "pycharm": {
     "name": "#%%\n"
    }
   }
  },
  {
   "cell_type": "markdown",
   "source": [
    "###### Income classification Dataset. from: https://www.kaggle.com/lodetomasi1995/income-classification?select=income_evaluation.csv"
   ],
   "metadata": {
    "collapsed": false
   }
  },
  {
   "cell_type": "code",
   "execution_count": null,
   "outputs": [],
   "source": [
    "chooseK(\"income_ds.csv\", 14)            # Target column: income"
   ],
   "metadata": {
    "collapsed": false,
    "pycharm": {
     "name": "#%%\n"
    }
   }
  },
  {
   "cell_type": "markdown",
   "source": [
    "###### Titanic Dataset. from: https://www.kaggle.com/c/titanic/data?select=train.csv"
   ],
   "metadata": {
    "collapsed": false
   }
  },
  {
   "cell_type": "code",
   "execution_count": null,
   "outputs": [],
   "source": [
    "chooseK(\"titanic_ds.csv\", 4)            # Target column: Survived"
   ],
   "metadata": {
    "collapsed": false,
    "pycharm": {
     "name": "#%%\n"
    }
   }
  },
  {
   "cell_type": "markdown",
   "source": [
    "###### Video games sales Dataset. from: https://www.kaggle.com/rush4ratio/video-game-sales-with-ratings/version/2"
   ],
   "metadata": {
    "collapsed": false
   }
  },
  {
   "cell_type": "code",
   "execution_count": null,
   "outputs": [],
   "source": [
    "chooseK(\"video_games_ds.csv\", 9)        # Target column: Global_Sales"
   ],
   "metadata": {
    "collapsed": false,
    "pycharm": {
     "name": "#%%\n"
    }
   }
  },
  {
   "cell_type": "code",
   "execution_count": null,
   "id": "5b98cf2b",
   "metadata": {
    "pycharm": {
     "name": "#%%\n"
    }
   },
   "outputs": [],
   "source": [
    "chooseK(\"video_games_ds.csv\", 9)        # Target column: Global_Sales"
   ]
  },
  {
   "cell_type": "markdown",
   "id": "758feeaf",
   "metadata": {},
   "source": [
    "###### This is the actual function, it executes the functions below."
   ]
  },
  {
   "cell_type": "code",
   "execution_count": null,
   "id": "0168e975",
   "metadata": {},
   "outputs": [],
   "source": [
    "# the main function that executes the process\n",
    "def chooseK(ds, target_column_index):\n",
    "    print(\"Start working on:\", ds)\n",
    "    # load data\n",
    "    X, y, features = ds_loader(ds, target_column_index)\n",
    "    # print some info of features and scores before reduction\n",
    "    print(\"\")\n",
    "    print(\"Original number of features:\", X.shape[1])\n",
    "    selector = SelectKBest(score_func=chi2, k='all')\n",
    "    selector.fit(X, y)\n",
    "    features, scores = sort_scores(selector, features)\n",
    "    showScores(features, scores, \"Original features with their scores:\")\n",
    "    showGraph(features, scores, \"Original features with their scores:\")\n",
    "    print(\"\")\n",
    "    #\n",
    "    threshold_k = getK_threshold(scores, threshold=THRESHOLD)\n",
    "    long_tail_k = getK_long_tail(scores)\n",
    "    k = min(threshold_k, long_tail_k)\n",
    "    print(\"K chosen by long_tail is:\", long_tail_k)\n",
    "    print(\"K chosen by threshold (\" + str(THRESHOLD) + \") is:\", threshold_k)\n",
    "    print(\"Minimal K is:\", k)\n",
    "    print(\"\")\n",
    "\n",
    "    # here we got reduced dataset and reduced features and scores lists\n",
    "    reduced_x, selector = reduce_features(X, y, k)\n",
    "    reduced_features = features[-k:]\n",
    "    reduced_scores = scores[-k:]\n",
    "\n",
    "    # print some info of features and scores after reduction\n",
    "    showScores(reduced_features, reduced_scores, \"After reduction:\")\n",
    "    showGraph(reduced_features, reduced_scores, \"After reduction:\")"
   ]
  },
  {
   "cell_type": "markdown",
   "id": "5bba766d",
   "metadata": {},
   "source": [
    "###### Now let's check our program with four different data sets"
   ]
  },
  {
   "cell_type": "code",
   "execution_count": null,
   "id": "7f399f74",
   "metadata": {},
   "outputs": [],
   "source": [
    "############ MAIN #############"
   ]
  },
  {
   "cell_type": "markdown",
   "id": "90f397de",
   "metadata": {},
   "source": [
    "###### Wine reviews Dataset. from: https://www.kaggle.com/zynicide/wine-reviews"
   ]
  },
  {
   "cell_type": "code",
   "execution_count": null,
   "id": "017d93a0",
   "metadata": {},
   "outputs": [],
   "source": [
    "\n",
    "chooseK(\"wine_ds.csv\", 4)               # Target column: Points"
   ]
  },
  {
   "cell_type": "markdown",
   "id": "0b57994d",
   "metadata": {},
   "source": [
    "###### Income classification Dataset. from: https://www.kaggle.com/lodetomasi1995/income-classification?select=income_evaluation.csv"
   ]
  },
  {
   "cell_type": "code",
   "execution_count": null,
   "id": "ffe75409",
   "metadata": {},
   "outputs": [],
   "source": [
    "chooseK(\"income_ds.csv\", 14)            # Target column: income"
   ]
  },
  {
   "cell_type": "markdown",
   "id": "a3fb85ad",
   "metadata": {},
   "source": [
    "###### Titanic Dataset. from: https://www.kaggle.com/c/titanic/data?select=train.csv"
   ]
  },
  {
   "cell_type": "code",
   "execution_count": null,
   "id": "5189c5bb",
   "metadata": {},
   "outputs": [],
   "source": [
    "chooseK(\"titanic_ds.csv\", 4)            # Target column: Survived"
   ]
  },
  {
   "cell_type": "markdown",
   "id": "ac8dc416",
   "metadata": {},
   "source": [
    "###### Video games sales Dataset. from: https://www.kaggle.com/rush4ratio/video-game-sales-with-ratings/version/2"
   ]
  },
  {
   "cell_type": "code",
   "execution_count": null,
   "id": "777fdde6",
   "metadata": {},
   "outputs": [],
   "source": [
    "chooseK(\"video_games_ds.csv\", 9)        # Target column: Global_Sales"
   ]
  }
 ],
 "metadata": {
  "kernelspec": {
   "display_name": "Python 3 (ipykernel)",
   "language": "python",
   "name": "python3"
  },
  "language_info": {
   "codemirror_mode": {
    "name": "ipython",
    "version": 3
   },
   "file_extension": ".py",
   "mimetype": "text/x-python",
   "name": "python",
   "nbconvert_exporter": "python",
   "pygments_lexer": "ipython3",
   "version": "3.9.0"
  }
 },
 "nbformat": 4,
 "nbformat_minor": 5
}