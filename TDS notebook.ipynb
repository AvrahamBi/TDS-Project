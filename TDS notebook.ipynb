{
 "cells": [
  {
   "cell_type": "markdown",
   "id": "785ef302",
   "metadata": {},
   "source": [
    "# Tabular Data Science - Project"
   ]
  },
  {
   "cell_type": "markdown",
   "id": "e8b54479",
   "metadata": {
    "pycharm": {
     "name": "#%% md\n"
    }
   },
   "source": [
    "## Categorial feature selection using Chi-squared"
   ]
  },
  {
   "cell_type": "markdown",
   "id": "bdb70992",
   "metadata": {},
   "source": [
    "To demonstrate the process program will run it step by step on one data set,\n",
    "and after program run the process automatically on 3 other datasets and prints results.\n",
    "\n",
    "If you want to see the process on another dataset or another target index change it few lines below."
   ]
  },
  {
   "cell_type": "code",
   "execution_count": 115,
   "id": "e64fbfad",
   "metadata": {},
   "outputs": [],
   "source": [
    "# import python pacakges\n",
    "from sklearn.feature_selection import SelectKBest, chi2"
   ]
  },
  {
   "cell_type": "code",
   "execution_count": 116,
   "id": "7f399f74",
   "metadata": {},
   "outputs": [],
   "source": [
    "# import our module\n",
    "import categorialSelection as cs"
   ]
  },
  {
   "cell_type": "code",
   "execution_count": 117,
   "id": "f92fd59f",
   "metadata": {},
   "outputs": [],
   "source": [
    "THRESHOLD = 10000"
   ]
  },
  {
   "cell_type": "markdown",
   "id": "36ea4d48",
   "metadata": {},
   "source": [
    "###### First dataset is: Wine reviews Dataset. "
   ]
  },
  {
   "cell_type": "code",
   "execution_count": 118,
   "id": "5bcc03ac",
   "metadata": {},
   "outputs": [],
   "source": [
    "# Here you can change the name and target index to see process with other given datasets\n",
    "ds = \"wine_ds.csv\"\n",
    "target_column_index = 4       # target column is Points"
   ]
  },
  {
   "cell_type": "markdown",
   "id": "b4af7a76",
   "metadata": {},
   "source": [
    "After we chose a target column we need to load the csv file."
   ]
  },
  {
   "cell_type": "code",
   "execution_count": 119,
   "id": "d7593c9d",
   "metadata": {},
   "outputs": [
    {
     "name": "stdout",
     "output_type": "stream",
     "text": [
      "Start working on: wine_ds.csv\n"
     ]
    }
   ],
   "source": [
    "print(\"Start working on:\", ds)\n",
    "X, y, features, original_ds_x, original_ds_y = cs.ds_loader(ds, target_column_index)"
   ]
  },
  {
   "cell_type": "code",
   "execution_count": 120,
   "id": "18530f81",
   "metadata": {},
   "outputs": [
    {
     "name": "stdout",
     "output_type": "stream",
     "text": [
      "Original number of features: 13\n"
     ]
    }
   ],
   "source": [
    "# print some info of features and scores before reduction\n",
    "print(\"Original number of features:\", X.shape[1])"
   ]
  },
  {
   "cell_type": "markdown",
   "id": "ed2b7fd7",
   "metadata": {},
   "source": [
    "Call selectKBest package to get a score for each column, higher score means \n",
    "that column is more relevant to chosen target column"
   ]
  },
  {
   "cell_type": "code",
   "execution_count": 121,
   "id": "aed7dffe",
   "metadata": {},
   "outputs": [],
   "source": [
    "selector = SelectKBest(score_func=chi2, k='all')\n",
    "selector.fit(X, y)\n",
    "features, scores = cs.sort_scores(selector, features)"
   ]
  },
  {
   "cell_type": "markdown",
   "id": "5f7042f9",
   "metadata": {},
   "source": [
    "To give the user an inforamtion about the process, program prints scores list and then display an intuitive graph to user."
   ]
  },
  {
   "cell_type": "code",
   "execution_count": 122,
   "id": "a515782a",
   "metadata": {},
   "outputs": [
    {
     "name": "stdout",
     "output_type": "stream",
     "text": [
      "Original features with their scores:\n",
      "Feature: region_2,   Score: 1777\n",
      "Feature: country,   Score: 2023\n",
      "Feature: taster_name,   Score: 3881\n",
      "Feature: taster_twitter_handle,   Score: 10832\n",
      "Feature: region_1,   Score: 26329\n",
      "Feature: variety,   Score: 29683\n",
      "Feature: winery,   Score: 128710\n",
      "Feature: province,   Score: 143412\n",
      "Feature: description,   Score: 574379\n",
      "Feature: title,   Score: 1038012\n",
      "Feature: price,   Score: 1292218\n",
      "Feature: nan,   Score: 7273253\n",
      "Feature: designation,   Score: 11642395\n"
     ]
    }
   ],
   "source": [
    "cs.showScores(features, scores, \"Original features with their scores:\")"
   ]
  },
  {
   "cell_type": "code",
   "execution_count": 123,
   "id": "94464e18",
   "metadata": {},
   "outputs": [
    {
     "data": {
      "image/png": "[encoded data removed]",
      "text/plain": [
       "<Figure size 432x288 with 1 Axes>"
      ]
     },
     "metadata": {
      "needs_background": "light"
     },
     "output_type": "display_data"
    },
    {
     "data": {
      "text/plain": [
       "(['region_2',\n",
       "  'country',\n",
       "  'taster_name',\n",
       "  'taster_twitter_handle',\n",
       "  'region_1',\n",
       "  'variety',\n",
       "  'winery',\n",
       "  'province',\n",
       "  'description',\n",
       "  'title',\n",
       "  'price',\n",
       "  'nan',\n",
       "  'designation'],\n",
       " [1777,\n",
       "  2023,\n",
       "  3881,\n",
       "  10832,\n",
       "  26329,\n",
       "  29683,\n",
       "  128710,\n",
       "  143412,\n",
       "  574379,\n",
       "  1038012,\n",
       "  1292218,\n",
       "  7273253,\n",
       "  11642395])"
      ]
     },
     "execution_count": 123,
     "metadata": {},
     "output_type": "execute_result"
    }
   ],
   "source": [
    "cs.showGraph(features, scores, \"Original features with their scores:\")"
   ]
  },
  {
   "cell_type": "markdown",
   "id": "432c3d82",
   "metadata": {},
   "source": [
    "Select only the most effective columns to be kept in the reduced data set\n",
    "program need to determine a K which will represent the number of the highest scores columns we want to keep in the data set."
   ]
  },
  {
   "cell_type": "markdown",
   "id": "6429ff7e",
   "metadata": {},
   "source": [
    "First function computes how many columns have score above the threshold, \n",
    "default threshold is 10000."
   ]
  },
  {
   "cell_type": "code",
   "execution_count": 124,
   "id": "4f0289f6",
   "metadata": {},
   "outputs": [],
   "source": [
    "threshold_k = cs.getK_threshold(scores, threshold=THRESHOLD)"
   ]
  },
  {
   "cell_type": "code",
   "execution_count": 125,
   "id": "3a113f8e",
   "metadata": {},
   "outputs": [
    {
     "data": {
      "text/plain": [
       "10"
      ]
     },
     "execution_count": 125,
     "metadata": {},
     "output_type": "execute_result"
    }
   ],
   "source": [
    "threshold_k"
   ]
  },
  {
   "cell_type": "markdown",
   "id": "b3e9a589",
   "metadata": {},
   "source": [
    "Second function looks for an elbow point in graph, and return K as the number of columns above the elbow point."
   ]
  },
  {
   "cell_type": "code",
   "execution_count": 126,
   "id": "d1212329",
   "metadata": {},
   "outputs": [],
   "source": [
    "elbow_point_k = cs.getK_elbow_point(scores)"
   ]
  },
  {
   "cell_type": "code",
   "execution_count": 127,
   "id": "bee903c7",
   "metadata": {},
   "outputs": [
    {
     "data": {
      "text/plain": [
       "2"
      ]
     },
     "execution_count": 127,
     "metadata": {},
     "output_type": "execute_result"
    }
   ],
   "source": [
    "elbow_point_k"
   ]
  },
  {
   "cell_type": "markdown",
   "id": "552a1b52",
   "metadata": {},
   "source": [
    "Finally program takes the minimal K from both functions and prints results to user."
   ]
  },
  {
   "cell_type": "code",
   "execution_count": 128,
   "id": "46522ffe",
   "metadata": {},
   "outputs": [
    {
     "name": "stdout",
     "output_type": "stream",
     "text": [
      "K chosen by elbow_point is: 2\n",
      "K chosen by threshold (10000) is: 10\n",
      "Minimal K is: 2\n"
     ]
    }
   ],
   "source": [
    "k = min(threshold_k, elbow_point_k)\n",
    "print(\"K chosen by elbow_point is:\", elbow_point_k)\n",
    "print(\"K chosen by threshold (\" + str(THRESHOLD) + \") is:\", threshold_k)\n",
    "print(\"Minimal K is:\", k)"
   ]
  },
  {
   "cell_type": "markdown",
   "id": "7b836d6d",
   "metadata": {},
   "source": [
    "After program calculated K, program reduces the data set and reduces features and scores list"
   ]
  },
  {
   "cell_type": "code",
   "execution_count": 129,
   "id": "2a6b8b95",
   "metadata": {},
   "outputs": [],
   "source": [
    "reduced_features = features[-k:]\n",
    "reduced_scores = scores[-k:]\n",
    "reduced_x = cs.reduce_features(features, reduced_features, original_ds_x)"
   ]
  },
  {
   "cell_type": "markdown",
   "id": "a6ab04d6",
   "metadata": {},
   "source": [
    "Display reduced features and their scores:"
   ]
  },
  {
   "cell_type": "code",
   "execution_count": 130,
   "id": "4817a8bd",
   "metadata": {},
   "outputs": [
    {
     "name": "stdout",
     "output_type": "stream",
     "text": [
      "After reduction:\n",
      "Feature: nan,   Score: 7273253\n",
      "Feature: designation,   Score: 11642395\n"
     ]
    }
   ],
   "source": [
    "cs.showScores(reduced_features, reduced_scores, \"After reduction:\")"
   ]
  },
  {
   "cell_type": "markdown",
   "id": "bf0e6899",
   "metadata": {},
   "source": [
    "Display a graph of reduced features and their scores:"
   ]
  },
  {
   "cell_type": "code",
   "execution_count": 131,
   "id": "d2f53ddf",
   "metadata": {},
   "outputs": [
    {
     "data": {
      "image/png": "[encoded data removed]",
      "text/plain": [
       "<Figure size 432x288 with 1 Axes>"
      ]
     },
     "metadata": {
      "needs_background": "light"
     },
     "output_type": "display_data"
    },
    {
     "data": {
      "text/plain": [
       "(['nan', 'designation'], [7273253, 11642395])"
      ]
     },
     "execution_count": 131,
     "metadata": {},
     "output_type": "execute_result"
    }
   ],
   "source": [
    "cs.showGraph(reduced_features, reduced_scores, \"After reduction:\")"
   ]
  },
  {
   "cell_type": "code",
   "execution_count": 132,
   "id": "7a675eb3",
   "metadata": {},
   "outputs": [
    {
     "data": {
      "text/html": [
       "<div>\n",
       "<style scoped>\n",
       "    .dataframe tbody tr th:only-of-type {\n",
       "        vertical-align: middle;\n",
       "    }\n",
       "\n",
       "    .dataframe tbody tr th {\n",
       "        vertical-align: top;\n",
       "    }\n",
       "\n",
       "    .dataframe thead th {\n",
       "        text-align: right;\n",
       "    }\n",
       "</style>\n",
       "<table border=\"1\" class=\"dataframe\">\n",
       "  <thead>\n",
       "    <tr style=\"text-align: right;\">\n",
       "      <th></th>\n",
       "      <th>12</th>\n",
       "      <th>13</th>\n",
       "    </tr>\n",
       "  </thead>\n",
       "  <tbody>\n",
       "    <tr>\n",
       "      <th>0</th>\n",
       "      <td>variety</td>\n",
       "      <td>winery</td>\n",
       "    </tr>\n",
       "    <tr>\n",
       "      <th>1</th>\n",
       "      <td>White Blend</td>\n",
       "      <td>Nicosia</td>\n",
       "    </tr>\n",
       "    <tr>\n",
       "      <th>2</th>\n",
       "      <td>Portuguese Red</td>\n",
       "      <td>Quinta dos Avidagos</td>\n",
       "    </tr>\n",
       "    <tr>\n",
       "      <th>3</th>\n",
       "      <td>Pinot Gris</td>\n",
       "      <td>Rainstorm</td>\n",
       "    </tr>\n",
       "    <tr>\n",
       "      <th>4</th>\n",
       "      <td>Riesling</td>\n",
       "      <td>St. Julian</td>\n",
       "    </tr>\n",
       "    <tr>\n",
       "      <th>...</th>\n",
       "      <td>...</td>\n",
       "      <td>...</td>\n",
       "    </tr>\n",
       "    <tr>\n",
       "      <th>129967</th>\n",
       "      <td>Riesling</td>\n",
       "      <td>Dr. H. Thanisch (Erben Müller-Burggraef)</td>\n",
       "    </tr>\n",
       "    <tr>\n",
       "      <th>129968</th>\n",
       "      <td>Pinot Noir</td>\n",
       "      <td>Citation</td>\n",
       "    </tr>\n",
       "    <tr>\n",
       "      <th>129969</th>\n",
       "      <td>Gewürztraminer</td>\n",
       "      <td>Domaine Gresser</td>\n",
       "    </tr>\n",
       "    <tr>\n",
       "      <th>129970</th>\n",
       "      <td>Pinot Gris</td>\n",
       "      <td>Domaine Marcel Deiss</td>\n",
       "    </tr>\n",
       "    <tr>\n",
       "      <th>129971</th>\n",
       "      <td>Gewürztraminer</td>\n",
       "      <td>Domaine Schoffit</td>\n",
       "    </tr>\n",
       "  </tbody>\n",
       "</table>\n",
       "<p>129972 rows × 2 columns</p>\n",
       "</div>"
      ],
      "text/plain": [
       "                    12                                        13\n",
       "0              variety                                    winery\n",
       "1          White Blend                                   Nicosia\n",
       "2       Portuguese Red                       Quinta dos Avidagos\n",
       "3           Pinot Gris                                 Rainstorm\n",
       "4             Riesling                                St. Julian\n",
       "...                ...                                       ...\n",
       "129967        Riesling  Dr. H. Thanisch (Erben Müller-Burggraef)\n",
       "129968      Pinot Noir                                  Citation\n",
       "129969  Gewürztraminer                           Domaine Gresser\n",
       "129970      Pinot Gris                      Domaine Marcel Deiss\n",
       "129971  Gewürztraminer                          Domaine Schoffit\n",
       "\n",
       "[129972 rows x 2 columns]"
      ]
     },
     "execution_count": 132,
     "metadata": {},
     "output_type": "execute_result"
    }
   ],
   "source": [
    "reduced_x"
   ]
  },
  {
   "cell_type": "markdown",
   "id": "0b57994d",
   "metadata": {},
   "source": [
    "###### Now we can see the process on three other datasets.\n",
    "###### Income classification Dataset."
   ]
  },
  {
   "cell_type": "code",
   "execution_count": 133,
   "id": "ffe75409",
   "metadata": {
    "scrolled": true
   },
   "outputs": [
    {
     "name": "stdout",
     "output_type": "stream",
     "text": [
      "Start working on: income_ds.csv\n",
      "\n",
      "Original number of features: 14\n",
      "Original features with their scores:\n",
      "Feature:  native-country,   Score: 14\n",
      "Feature:  race,   Score: 33\n",
      "Feature:  workclass,   Score: 54\n",
      "Feature:  education,   Score: 301\n",
      "Feature:  sex,   Score: 505\n",
      "Feature:  occupation,   Score: 515\n",
      "Feature:  marital-status,   Score: 1130\n",
      "Feature:  education-num,   Score: 2930\n",
      "Feature:  relationship,   Score: 3673\n",
      "Feature:  hours-per-week,   Score: 7336\n",
      "Feature: age,   Score: 15499\n",
      "Feature:  capital-loss,   Score: 21906\n",
      "Feature:  fnlwgt,   Score: 119726\n",
      "Feature:  capital-gain,   Score: 149368\n"
     ]
    },
    {
     "data": {
      "image/png": "[encoded data removed]",
      "text/plain": [
       "<Figure size 432x288 with 1 Axes>"
      ]
     },
     "metadata": {
      "needs_background": "light"
     },
     "output_type": "display_data"
    },
    {
     "name": "stdout",
     "output_type": "stream",
     "text": [
      "\n",
      "K chosen by elbow_point is: 11\n",
      "K chosen by threshold (10000) is: 4\n",
      "Minimal K is: 4\n",
      "\n",
      "After reduction:\n",
      "Feature: age,   Score: 15499\n",
      "Feature:  capital-loss,   Score: 21906\n",
      "Feature:  fnlwgt,   Score: 119726\n",
      "Feature:  capital-gain,   Score: 149368\n"
     ]
    },
    {
     "data": {
      "image/png": "[encoded data removed]",
      "text/plain": [
       "<Figure size 432x288 with 1 Axes>"
      ]
     },
     "metadata": {
      "needs_background": "light"
     },
     "output_type": "display_data"
    }
   ],
   "source": [
    "reduced_income = cs.chooseK(\"income_ds.csv\", 14)            # Target column: income"
   ]
  },
  {
   "cell_type": "markdown",
   "id": "91dbe676",
   "metadata": {},
   "source": [
    "Reduced data set after the process is:"
   ]
  },
  {
   "cell_type": "code",
   "execution_count": 134,
   "id": "5a3070a1",
   "metadata": {},
   "outputs": [
    {
     "data": {
      "text/html": [
       "<div>\n",
       "<style scoped>\n",
       "    .dataframe tbody tr th:only-of-type {\n",
       "        vertical-align: middle;\n",
       "    }\n",
       "\n",
       "    .dataframe tbody tr th {\n",
       "        vertical-align: top;\n",
       "    }\n",
       "\n",
       "    .dataframe thead th {\n",
       "        text-align: right;\n",
       "    }\n",
       "</style>\n",
       "<table border=\"1\" class=\"dataframe\">\n",
       "  <thead>\n",
       "    <tr style=\"text-align: right;\">\n",
       "      <th></th>\n",
       "      <th>10</th>\n",
       "      <th>11</th>\n",
       "      <th>12</th>\n",
       "      <th>13</th>\n",
       "    </tr>\n",
       "  </thead>\n",
       "  <tbody>\n",
       "    <tr>\n",
       "      <th>0</th>\n",
       "      <td>capital-gain</td>\n",
       "      <td>capital-loss</td>\n",
       "      <td>hours-per-week</td>\n",
       "      <td>native-country</td>\n",
       "    </tr>\n",
       "    <tr>\n",
       "      <th>1</th>\n",
       "      <td>2174</td>\n",
       "      <td>0</td>\n",
       "      <td>40</td>\n",
       "      <td>United-States</td>\n",
       "    </tr>\n",
       "    <tr>\n",
       "      <th>2</th>\n",
       "      <td>0</td>\n",
       "      <td>0</td>\n",
       "      <td>13</td>\n",
       "      <td>United-States</td>\n",
       "    </tr>\n",
       "    <tr>\n",
       "      <th>3</th>\n",
       "      <td>0</td>\n",
       "      <td>0</td>\n",
       "      <td>40</td>\n",
       "      <td>United-States</td>\n",
       "    </tr>\n",
       "    <tr>\n",
       "      <th>4</th>\n",
       "      <td>0</td>\n",
       "      <td>0</td>\n",
       "      <td>40</td>\n",
       "      <td>United-States</td>\n",
       "    </tr>\n",
       "    <tr>\n",
       "      <th>...</th>\n",
       "      <td>...</td>\n",
       "      <td>...</td>\n",
       "      <td>...</td>\n",
       "      <td>...</td>\n",
       "    </tr>\n",
       "    <tr>\n",
       "      <th>32557</th>\n",
       "      <td>0</td>\n",
       "      <td>0</td>\n",
       "      <td>38</td>\n",
       "      <td>United-States</td>\n",
       "    </tr>\n",
       "    <tr>\n",
       "      <th>32558</th>\n",
       "      <td>0</td>\n",
       "      <td>0</td>\n",
       "      <td>40</td>\n",
       "      <td>United-States</td>\n",
       "    </tr>\n",
       "    <tr>\n",
       "      <th>32559</th>\n",
       "      <td>0</td>\n",
       "      <td>0</td>\n",
       "      <td>40</td>\n",
       "      <td>United-States</td>\n",
       "    </tr>\n",
       "    <tr>\n",
       "      <th>32560</th>\n",
       "      <td>0</td>\n",
       "      <td>0</td>\n",
       "      <td>20</td>\n",
       "      <td>United-States</td>\n",
       "    </tr>\n",
       "    <tr>\n",
       "      <th>32561</th>\n",
       "      <td>15024</td>\n",
       "      <td>0</td>\n",
       "      <td>40</td>\n",
       "      <td>United-States</td>\n",
       "    </tr>\n",
       "  </tbody>\n",
       "</table>\n",
       "<p>32562 rows × 4 columns</p>\n",
       "</div>"
      ],
      "text/plain": [
       "                  10             11               12               13\n",
       "0       capital-gain   capital-loss   hours-per-week   native-country\n",
       "1               2174              0               40    United-States\n",
       "2                  0              0               13    United-States\n",
       "3                  0              0               40    United-States\n",
       "4                  0              0               40    United-States\n",
       "...              ...            ...              ...              ...\n",
       "32557              0              0               38    United-States\n",
       "32558              0              0               40    United-States\n",
       "32559              0              0               40    United-States\n",
       "32560              0              0               20    United-States\n",
       "32561          15024              0               40    United-States\n",
       "\n",
       "[32562 rows x 4 columns]"
      ]
     },
     "execution_count": 134,
     "metadata": {},
     "output_type": "execute_result"
    }
   ],
   "source": [
    "reduced_income"
   ]
  },
  {
   "cell_type": "markdown",
   "id": "a3fb85ad",
   "metadata": {},
   "source": [
    "###### Titanic Dataset."
   ]
  },
  {
   "cell_type": "code",
   "execution_count": 135,
   "id": "5189c5bb",
   "metadata": {},
   "outputs": [
    {
     "name": "stdout",
     "output_type": "stream",
     "text": [
      "Start working on: titanic_ds.csv\n",
      "\n",
      "Original number of features: 11\n",
      "Original features with their scores:\n",
      "Feature: Embarked,   Score: 5\n",
      "Feature: Pclass,   Score: 10\n",
      "Feature: Age,   Score: 82\n",
      "Feature: Name,   Score: 91\n",
      "Feature: Cabin,   Score: 96\n",
      "Feature: SibSp,   Score: 108\n",
      "Feature: Survived,   Score: 168\n",
      "Feature: Parch,   Score: 202\n",
      "Feature: Ticket,   Score: 702\n",
      "Feature: PassengerId,   Score: 821\n",
      "Feature: Fare,   Score: 861\n"
     ]
    },
    {
     "data": {
      "image/png": "[encoded data removed]",
      "text/plain": [
       "<Figure size 432x288 with 1 Axes>"
      ]
     },
     "metadata": {
      "needs_background": "light"
     },
     "output_type": "display_data"
    },
    {
     "name": "stdout",
     "output_type": "stream",
     "text": [
      "\n",
      "K chosen by elbow_point is: 9\n",
      "K chosen by threshold (10000) is: 11\n",
      "Minimal K is: 9\n",
      "\n",
      "After reduction:\n",
      "Feature: Age,   Score: 82\n",
      "Feature: Name,   Score: 91\n",
      "Feature: Cabin,   Score: 96\n",
      "Feature: SibSp,   Score: 108\n",
      "Feature: Survived,   Score: 168\n",
      "Feature: Parch,   Score: 202\n",
      "Feature: Ticket,   Score: 702\n",
      "Feature: PassengerId,   Score: 821\n",
      "Feature: Fare,   Score: 861\n"
     ]
    },
    {
     "data": {
      "image/png": "[encoded data removed]",
      "text/plain": [
       "<Figure size 432x288 with 1 Axes>"
      ]
     },
     "metadata": {
      "needs_background": "light"
     },
     "output_type": "display_data"
    }
   ],
   "source": [
    "reduced_titanic = cs.chooseK(\"titanic_ds.csv\", 4)            # Target column: Survived"
   ]
  },
  {
   "cell_type": "code",
   "execution_count": 136,
   "id": "9d45d269",
   "metadata": {},
   "outputs": [
    {
     "data": {
      "text/html": [
       "<div>\n",
       "<style scoped>\n",
       "    .dataframe tbody tr th:only-of-type {\n",
       "        vertical-align: middle;\n",
       "    }\n",
       "\n",
       "    .dataframe tbody tr th {\n",
       "        vertical-align: top;\n",
       "    }\n",
       "\n",
       "    .dataframe thead th {\n",
       "        text-align: right;\n",
       "    }\n",
       "</style>\n",
       "<table border=\"1\" class=\"dataframe\">\n",
       "  <thead>\n",
       "    <tr style=\"text-align: right;\">\n",
       "      <th></th>\n",
       "      <th>2</th>\n",
       "      <th>3</th>\n",
       "      <th>5</th>\n",
       "      <th>6</th>\n",
       "      <th>7</th>\n",
       "      <th>8</th>\n",
       "      <th>9</th>\n",
       "      <th>10</th>\n",
       "      <th>11</th>\n",
       "    </tr>\n",
       "  </thead>\n",
       "  <tbody>\n",
       "    <tr>\n",
       "      <th>0</th>\n",
       "      <td>Pclass</td>\n",
       "      <td>Name</td>\n",
       "      <td>Age</td>\n",
       "      <td>SibSp</td>\n",
       "      <td>Parch</td>\n",
       "      <td>Ticket</td>\n",
       "      <td>Fare</td>\n",
       "      <td>Cabin</td>\n",
       "      <td>Embarked</td>\n",
       "    </tr>\n",
       "    <tr>\n",
       "      <th>1</th>\n",
       "      <td>3</td>\n",
       "      <td>Braund, Mr. Owen Harris</td>\n",
       "      <td>22</td>\n",
       "      <td>1</td>\n",
       "      <td>0</td>\n",
       "      <td>A/5 21171</td>\n",
       "      <td>7.25</td>\n",
       "      <td>nan</td>\n",
       "      <td>S</td>\n",
       "    </tr>\n",
       "    <tr>\n",
       "      <th>2</th>\n",
       "      <td>1</td>\n",
       "      <td>Cumings, Mrs. John Bradley (Florence Briggs Th...</td>\n",
       "      <td>38</td>\n",
       "      <td>1</td>\n",
       "      <td>0</td>\n",
       "      <td>PC 17599</td>\n",
       "      <td>71.2833</td>\n",
       "      <td>C85</td>\n",
       "      <td>C</td>\n",
       "    </tr>\n",
       "    <tr>\n",
       "      <th>3</th>\n",
       "      <td>3</td>\n",
       "      <td>Heikkinen, Miss. Laina</td>\n",
       "      <td>26</td>\n",
       "      <td>0</td>\n",
       "      <td>0</td>\n",
       "      <td>STON/O2. 3101282</td>\n",
       "      <td>7.925</td>\n",
       "      <td>nan</td>\n",
       "      <td>S</td>\n",
       "    </tr>\n",
       "    <tr>\n",
       "      <th>4</th>\n",
       "      <td>1</td>\n",
       "      <td>Futrelle, Mrs. Jacques Heath (Lily May Peel)</td>\n",
       "      <td>35</td>\n",
       "      <td>1</td>\n",
       "      <td>0</td>\n",
       "      <td>113803</td>\n",
       "      <td>53.1</td>\n",
       "      <td>C123</td>\n",
       "      <td>S</td>\n",
       "    </tr>\n",
       "    <tr>\n",
       "      <th>...</th>\n",
       "      <td>...</td>\n",
       "      <td>...</td>\n",
       "      <td>...</td>\n",
       "      <td>...</td>\n",
       "      <td>...</td>\n",
       "      <td>...</td>\n",
       "      <td>...</td>\n",
       "      <td>...</td>\n",
       "      <td>...</td>\n",
       "    </tr>\n",
       "    <tr>\n",
       "      <th>887</th>\n",
       "      <td>2</td>\n",
       "      <td>Montvila, Rev. Juozas</td>\n",
       "      <td>27</td>\n",
       "      <td>0</td>\n",
       "      <td>0</td>\n",
       "      <td>211536</td>\n",
       "      <td>13</td>\n",
       "      <td>nan</td>\n",
       "      <td>S</td>\n",
       "    </tr>\n",
       "    <tr>\n",
       "      <th>888</th>\n",
       "      <td>1</td>\n",
       "      <td>Graham, Miss. Margaret Edith</td>\n",
       "      <td>19</td>\n",
       "      <td>0</td>\n",
       "      <td>0</td>\n",
       "      <td>112053</td>\n",
       "      <td>30</td>\n",
       "      <td>B42</td>\n",
       "      <td>S</td>\n",
       "    </tr>\n",
       "    <tr>\n",
       "      <th>889</th>\n",
       "      <td>3</td>\n",
       "      <td>Johnston, Miss. Catherine Helen \"Carrie\"</td>\n",
       "      <td>nan</td>\n",
       "      <td>1</td>\n",
       "      <td>2</td>\n",
       "      <td>W./C. 6607</td>\n",
       "      <td>23.45</td>\n",
       "      <td>nan</td>\n",
       "      <td>S</td>\n",
       "    </tr>\n",
       "    <tr>\n",
       "      <th>890</th>\n",
       "      <td>1</td>\n",
       "      <td>Behr, Mr. Karl Howell</td>\n",
       "      <td>26</td>\n",
       "      <td>0</td>\n",
       "      <td>0</td>\n",
       "      <td>111369</td>\n",
       "      <td>30</td>\n",
       "      <td>C148</td>\n",
       "      <td>C</td>\n",
       "    </tr>\n",
       "    <tr>\n",
       "      <th>891</th>\n",
       "      <td>3</td>\n",
       "      <td>Dooley, Mr. Patrick</td>\n",
       "      <td>32</td>\n",
       "      <td>0</td>\n",
       "      <td>0</td>\n",
       "      <td>370376</td>\n",
       "      <td>7.75</td>\n",
       "      <td>nan</td>\n",
       "      <td>Q</td>\n",
       "    </tr>\n",
       "  </tbody>\n",
       "</table>\n",
       "<p>892 rows × 9 columns</p>\n",
       "</div>"
      ],
      "text/plain": [
       "         2                                                  3    5      6   \\\n",
       "0    Pclass                                               Name  Age  SibSp   \n",
       "1         3                            Braund, Mr. Owen Harris   22      1   \n",
       "2         1  Cumings, Mrs. John Bradley (Florence Briggs Th...   38      1   \n",
       "3         3                             Heikkinen, Miss. Laina   26      0   \n",
       "4         1       Futrelle, Mrs. Jacques Heath (Lily May Peel)   35      1   \n",
       "..      ...                                                ...  ...    ...   \n",
       "887       2                              Montvila, Rev. Juozas   27      0   \n",
       "888       1                       Graham, Miss. Margaret Edith   19      0   \n",
       "889       3           Johnston, Miss. Catherine Helen \"Carrie\"  nan      1   \n",
       "890       1                              Behr, Mr. Karl Howell   26      0   \n",
       "891       3                                Dooley, Mr. Patrick   32      0   \n",
       "\n",
       "        7                 8        9      10        11  \n",
       "0    Parch            Ticket     Fare  Cabin  Embarked  \n",
       "1        0         A/5 21171     7.25    nan         S  \n",
       "2        0          PC 17599  71.2833    C85         C  \n",
       "3        0  STON/O2. 3101282    7.925    nan         S  \n",
       "4        0            113803     53.1   C123         S  \n",
       "..     ...               ...      ...    ...       ...  \n",
       "887      0            211536       13    nan         S  \n",
       "888      0            112053       30    B42         S  \n",
       "889      2        W./C. 6607    23.45    nan         S  \n",
       "890      0            111369       30   C148         C  \n",
       "891      0            370376     7.75    nan         Q  \n",
       "\n",
       "[892 rows x 9 columns]"
      ]
     },
     "execution_count": 136,
     "metadata": {},
     "output_type": "execute_result"
    }
   ],
   "source": [
    "reduced_titanic"
   ]
  },
  {
   "cell_type": "markdown",
   "id": "ac8dc416",
   "metadata": {},
   "source": [
    "###### Video games sales Dataset."
   ]
  },
  {
   "cell_type": "code",
   "execution_count": 137,
   "id": "777fdde6",
   "metadata": {},
   "outputs": [
    {
     "name": "stdout",
     "output_type": "stream",
     "text": [
      "Start working on: video_games_ds.csv\n",
      "\n",
      "Original number of features: 15\n",
      "Original features with their scores:\n",
      "Feature: Rating,   Score: 1932\n",
      "Feature: Genre,   Score: 2008\n",
      "Feature: Year_of_Release,   Score: 2277\n",
      "Feature: Critic_Score,   Score: 3244\n",
      "Feature: Platform,   Score: 3494\n",
      "Feature: User_Score,   Score: 4021\n",
      "Feature: Critic_Count,   Score: 23861\n",
      "Feature: Publisher,   Score: 59518\n",
      "Feature: User_Count,   Score: 197999\n",
      "Feature: Developer,   Score: 215785\n",
      "Feature: Other_Sales,   Score: 455127\n",
      "Feature: JP_Sales,   Score: 654872\n",
      "Feature: EU_Sales,   Score: 1171320\n",
      "Feature: Name,   Score: 1233660\n",
      "Feature: NA_Sales,   Score: 1452446\n"
     ]
    },
    {
     "data": {
      "image/png": "[encoded data removed]",
      "text/plain": [
       "<Figure size 432x288 with 1 Axes>"
      ]
     },
     "metadata": {
      "needs_background": "light"
     },
     "output_type": "display_data"
    },
    {
     "name": "stdout",
     "output_type": "stream",
     "text": [
      "\n",
      "K chosen by elbow_point is: 9\n",
      "K chosen by threshold (10000) is: 9\n",
      "Minimal K is: 9\n",
      "\n",
      "After reduction:\n",
      "Feature: Critic_Count,   Score: 23861\n",
      "Feature: Publisher,   Score: 59518\n",
      "Feature: User_Count,   Score: 197999\n",
      "Feature: Developer,   Score: 215785\n",
      "Feature: Other_Sales,   Score: 455127\n",
      "Feature: JP_Sales,   Score: 654872\n",
      "Feature: EU_Sales,   Score: 1171320\n",
      "Feature: Name,   Score: 1233660\n",
      "Feature: NA_Sales,   Score: 1452446\n"
     ]
    },
    {
     "data": {
      "image/png": "[encoded data removed]",
      "text/plain": [
       "<Figure size 432x288 with 1 Axes>"
      ]
     },
     "metadata": {
      "needs_background": "light"
     },
     "output_type": "display_data"
    }
   ],
   "source": [
    "reduced_video_games = cs.chooseK(\"video_games_ds.csv\", 9)        # Target column: Global_Sales"
   ]
  },
  {
   "cell_type": "code",
   "execution_count": 138,
   "id": "4a4f25e3",
   "metadata": {},
   "outputs": [
    {
     "data": {
      "text/html": [
       "<div>\n",
       "<style scoped>\n",
       "    .dataframe tbody tr th:only-of-type {\n",
       "        vertical-align: middle;\n",
       "    }\n",
       "\n",
       "    .dataframe tbody tr th {\n",
       "        vertical-align: top;\n",
       "    }\n",
       "\n",
       "    .dataframe thead th {\n",
       "        text-align: right;\n",
       "    }\n",
       "</style>\n",
       "<table border=\"1\" class=\"dataframe\">\n",
       "  <thead>\n",
       "    <tr style=\"text-align: right;\">\n",
       "      <th></th>\n",
       "      <th>6</th>\n",
       "      <th>7</th>\n",
       "      <th>8</th>\n",
       "      <th>10</th>\n",
       "      <th>11</th>\n",
       "      <th>12</th>\n",
       "      <th>13</th>\n",
       "      <th>14</th>\n",
       "      <th>15</th>\n",
       "    </tr>\n",
       "  </thead>\n",
       "  <tbody>\n",
       "    <tr>\n",
       "      <th>0</th>\n",
       "      <td>EU_Sales</td>\n",
       "      <td>JP_Sales</td>\n",
       "      <td>Other_Sales</td>\n",
       "      <td>Critic_Score</td>\n",
       "      <td>Critic_Count</td>\n",
       "      <td>User_Score</td>\n",
       "      <td>User_Count</td>\n",
       "      <td>Developer</td>\n",
       "      <td>Rating</td>\n",
       "    </tr>\n",
       "    <tr>\n",
       "      <th>1</th>\n",
       "      <td>28.96</td>\n",
       "      <td>3.77</td>\n",
       "      <td>8.45</td>\n",
       "      <td>76</td>\n",
       "      <td>51</td>\n",
       "      <td>8</td>\n",
       "      <td>322</td>\n",
       "      <td>Nintendo</td>\n",
       "      <td>E</td>\n",
       "    </tr>\n",
       "    <tr>\n",
       "      <th>2</th>\n",
       "      <td>3.58</td>\n",
       "      <td>6.81</td>\n",
       "      <td>0.77</td>\n",
       "      <td>nan</td>\n",
       "      <td>nan</td>\n",
       "      <td>nan</td>\n",
       "      <td>nan</td>\n",
       "      <td>nan</td>\n",
       "      <td>nan</td>\n",
       "    </tr>\n",
       "    <tr>\n",
       "      <th>3</th>\n",
       "      <td>12.76</td>\n",
       "      <td>3.79</td>\n",
       "      <td>3.29</td>\n",
       "      <td>82</td>\n",
       "      <td>73</td>\n",
       "      <td>8.3</td>\n",
       "      <td>709</td>\n",
       "      <td>Nintendo</td>\n",
       "      <td>E</td>\n",
       "    </tr>\n",
       "    <tr>\n",
       "      <th>4</th>\n",
       "      <td>10.93</td>\n",
       "      <td>3.28</td>\n",
       "      <td>2.95</td>\n",
       "      <td>80</td>\n",
       "      <td>73</td>\n",
       "      <td>8</td>\n",
       "      <td>192</td>\n",
       "      <td>Nintendo</td>\n",
       "      <td>E</td>\n",
       "    </tr>\n",
       "    <tr>\n",
       "      <th>...</th>\n",
       "      <td>...</td>\n",
       "      <td>...</td>\n",
       "      <td>...</td>\n",
       "      <td>...</td>\n",
       "      <td>...</td>\n",
       "      <td>...</td>\n",
       "      <td>...</td>\n",
       "      <td>...</td>\n",
       "      <td>...</td>\n",
       "    </tr>\n",
       "    <tr>\n",
       "      <th>16715</th>\n",
       "      <td>0</td>\n",
       "      <td>0.01</td>\n",
       "      <td>0</td>\n",
       "      <td>nan</td>\n",
       "      <td>nan</td>\n",
       "      <td>nan</td>\n",
       "      <td>nan</td>\n",
       "      <td>nan</td>\n",
       "      <td>nan</td>\n",
       "    </tr>\n",
       "    <tr>\n",
       "      <th>16716</th>\n",
       "      <td>0.01</td>\n",
       "      <td>0</td>\n",
       "      <td>0</td>\n",
       "      <td>nan</td>\n",
       "      <td>nan</td>\n",
       "      <td>nan</td>\n",
       "      <td>nan</td>\n",
       "      <td>nan</td>\n",
       "      <td>nan</td>\n",
       "    </tr>\n",
       "    <tr>\n",
       "      <th>16717</th>\n",
       "      <td>0</td>\n",
       "      <td>0.01</td>\n",
       "      <td>0</td>\n",
       "      <td>nan</td>\n",
       "      <td>nan</td>\n",
       "      <td>nan</td>\n",
       "      <td>nan</td>\n",
       "      <td>nan</td>\n",
       "      <td>nan</td>\n",
       "    </tr>\n",
       "    <tr>\n",
       "      <th>16718</th>\n",
       "      <td>0</td>\n",
       "      <td>0</td>\n",
       "      <td>0</td>\n",
       "      <td>nan</td>\n",
       "      <td>nan</td>\n",
       "      <td>nan</td>\n",
       "      <td>nan</td>\n",
       "      <td>nan</td>\n",
       "      <td>nan</td>\n",
       "    </tr>\n",
       "    <tr>\n",
       "      <th>16719</th>\n",
       "      <td>0</td>\n",
       "      <td>0.01</td>\n",
       "      <td>0</td>\n",
       "      <td>nan</td>\n",
       "      <td>nan</td>\n",
       "      <td>nan</td>\n",
       "      <td>nan</td>\n",
       "      <td>nan</td>\n",
       "      <td>nan</td>\n",
       "    </tr>\n",
       "  </tbody>\n",
       "</table>\n",
       "<p>16720 rows × 9 columns</p>\n",
       "</div>"
      ],
      "text/plain": [
       "             6         7            8             10            11  \\\n",
       "0      EU_Sales  JP_Sales  Other_Sales  Critic_Score  Critic_Count   \n",
       "1         28.96      3.77         8.45            76            51   \n",
       "2          3.58      6.81         0.77           nan           nan   \n",
       "3         12.76      3.79         3.29            82            73   \n",
       "4         10.93      3.28         2.95            80            73   \n",
       "...         ...       ...          ...           ...           ...   \n",
       "16715         0      0.01            0           nan           nan   \n",
       "16716      0.01         0            0           nan           nan   \n",
       "16717         0      0.01            0           nan           nan   \n",
       "16718         0         0            0           nan           nan   \n",
       "16719         0      0.01            0           nan           nan   \n",
       "\n",
       "               12          13         14      15  \n",
       "0      User_Score  User_Count  Developer  Rating  \n",
       "1               8         322   Nintendo       E  \n",
       "2             nan         nan        nan     nan  \n",
       "3             8.3         709   Nintendo       E  \n",
       "4               8         192   Nintendo       E  \n",
       "...           ...         ...        ...     ...  \n",
       "16715         nan         nan        nan     nan  \n",
       "16716         nan         nan        nan     nan  \n",
       "16717         nan         nan        nan     nan  \n",
       "16718         nan         nan        nan     nan  \n",
       "16719         nan         nan        nan     nan  \n",
       "\n",
       "[16720 rows x 9 columns]"
      ]
     },
     "execution_count": 138,
     "metadata": {},
     "output_type": "execute_result"
    }
   ],
   "source": [
    "reduced_video_games"
   ]
  }
 ],
 "metadata": {
  "kernelspec": {
   "display_name": "Python 3 (ipykernel)",
   "language": "python",
   "name": "python3"
  },
  "language_info": {
   "codemirror_mode": {
    "name": "ipython",
    "version": 3
   },
   "file_extension": ".py",
   "mimetype": "text/x-python",
   "name": "python",
   "nbconvert_exporter": "python",
   "pygments_lexer": "ipython3",
   "version": "3.9.0"
  }
 },
 "nbformat": 4,
 "nbformat_minor": 5
}